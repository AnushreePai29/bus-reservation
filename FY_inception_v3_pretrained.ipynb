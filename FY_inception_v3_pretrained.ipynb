{
  "nbformat": 4,
  "nbformat_minor": 0,
  "metadata": {
    "colab": {
      "provenance": [],
      "gpuType": "T4",
      "authorship_tag": "ABX9TyOkb0dlDH/m1nxMORCtqm+8",
      "include_colab_link": true
    },
    "kernelspec": {
      "name": "python3",
      "display_name": "Python 3"
    },
    "language_info": {
      "name": "python"
    },
    "accelerator": "GPU"
  },
  "cells": [
    {
      "cell_type": "markdown",
      "metadata": {
        "id": "view-in-github",
        "colab_type": "text"
      },
      "source": [
        "<a href=\"https://colab.research.google.com/github/AnushreePai29/bus-reservation/blob/main/FY_inception_v3_pretrained.ipynb\" target=\"_parent\"><img src=\"https://colab.research.google.com/assets/colab-badge.svg\" alt=\"Open In Colab\"/></a>"
      ]
    },
    {
      "cell_type": "code",
      "execution_count": null,
      "metadata": {
        "id": "-P8JeUXVqCjy"
      },
      "outputs": [],
      "source": [
        "#importting necessary libraries\n",
        "import tensorflow as tf\n",
        "import matplotlib.pyplot as plt"
      ]
    },
    {
      "cell_type": "code",
      "source": [
        "#unzippping the train set\n",
        "import zipfile\n",
        "zip_ref = zipfile.ZipFile('/content/train.zip','r')\n",
        "zip_ref.extractall('/content')\n",
        "zip_ref.close()"
      ],
      "metadata": {
        "id": "Fao6hMbSqLdo"
      },
      "execution_count": null,
      "outputs": []
    },
    {
      "cell_type": "code",
      "source": [
        "#unzippping the valid set\n",
        "import zipfile\n",
        "zip_ref = zipfile.ZipFile('/content/valid.zip','r')\n",
        "zip_ref.extractall('/content')\n",
        "zip_ref.close()"
      ],
      "metadata": {
        "id": "Kx6mOb_1qPtv"
      },
      "execution_count": null,
      "outputs": []
    },
    {
      "cell_type": "code",
      "source": [
        "#unzippping the test set\n",
        "import zipfile\n",
        "zip_ref = zipfile.ZipFile('/content/test.zip','r')\n",
        "zip_ref.extractall('/content')\n",
        "zip_ref.close()"
      ],
      "metadata": {
        "id": "Wf7GBQH8qSRf"
      },
      "execution_count": null,
      "outputs": []
    },
    {
      "cell_type": "code",
      "source": [
        "#importting necessary libraries\n",
        "from keras.preprocessing.image import ImageDataGenerator\n",
        "from keras.models import Sequential\n",
        "from keras.layers import Input, Dense\n",
        "from keras.applications import InceptionV3\n",
        "from keras.applications.inception_v3 import preprocess_input\n",
        "import keras\n",
        "\n",
        "print(keras.__version__)"
      ],
      "metadata": {
        "colab": {
          "base_uri": "https://localhost:8080/"
        },
        "id": "Sjd8mWpetnr4",
        "outputId": "e1d7fdbe-bf25-4deb-9139-f7b632d4c6c1"
      },
      "execution_count": null,
      "outputs": [
        {
          "output_type": "stream",
          "name": "stdout",
          "text": [
            "2.15.0\n"
          ]
        }
      ]
    },
    {
      "cell_type": "code",
      "source": [
        "#importting necessary libraries\n",
        "%%capture\n",
        "import keras\n",
        "import keras.backend as K\n",
        "from keras.models import Model\n",
        "from keras.layers import Input, Dense, Conv2D, Conv3D, DepthwiseConv2D, SeparableConv2D, Conv3DTranspose\n",
        "from keras.layers import Flatten, MaxPool2D, AvgPool2D, GlobalAvgPool2D, UpSampling2D, BatchNormalization\n",
        "from keras.layers import Concatenate, Add, Dropout, ReLU, Lambda, Activation, LeakyReLU, PReLU\n",
        "\n",
        "from IPython.display import SVG\n",
        "\n",
        "\n",
        "from time import time\n",
        "import numpy as np"
      ],
      "metadata": {
        "id": "vJo8tr8It7_s"
      },
      "execution_count": null,
      "outputs": []
    },
    {
      "cell_type": "code",
      "source": [
        "#importting necessary libraries\n",
        "import tensorflow as tf\n",
        "from tensorflow import keras\n",
        "from keras import Sequential\n",
        "from keras.layers import Dense,Conv2D,MaxPooling2D,Flatten,BatchNormalization,Dropout,AvgPool2D"
      ],
      "metadata": {
        "id": "-J8mxZ-7t_sk"
      },
      "execution_count": null,
      "outputs": []
    },
    {
      "cell_type": "code",
      "source": [
        "# Number of classes in the classification problem (binary classification in this case)\n",
        "num_classes = 2\n",
        "\n",
        "# Size to which images will be resized before input to the model\n",
        "image_resize = 224\n",
        "\n",
        "# Number of samples to process in each iteration during training\n",
        "batch_size_training = 100\n",
        "# Number of samples to process in each iteration during validation\n",
        "batch_size_validation = 100"
      ],
      "metadata": {
        "id": "AQnzr2fWuChV"
      },
      "execution_count": null,
      "outputs": []
    },
    {
      "cell_type": "code",
      "source": [
        "# Image data generator for real-time data augmentation during training\n",
        "# preprocessing_function applies preprocessing to each image before feeding it to the model\n",
        "data_generator = ImageDataGenerator(\n",
        "    preprocessing_function=preprocess_input,\n",
        ")"
      ],
      "metadata": {
        "id": "jybPVZiRuGGu"
      },
      "execution_count": null,
      "outputs": []
    },
    {
      "cell_type": "code",
      "source": [
        "# Generate a training data iterator from images in the '/content/train' directory\n",
        "# Images are resized to (image_resize, image_resize), and labels are one-hot encoded (categorical)\n",
        "train_generator = data_generator.flow_from_directory(\n",
        "    '/content/train',\n",
        "    target_size=(image_resize, image_resize),\n",
        "    batch_size=batch_size_training,\n",
        "    class_mode='categorical')"
      ],
      "metadata": {
        "colab": {
          "base_uri": "https://localhost:8080/"
        },
        "id": "THD7GQDFuJw8",
        "outputId": "0b5ae55f-da86-40e8-9f34-767ae73202ac"
      },
      "execution_count": null,
      "outputs": [
        {
          "output_type": "stream",
          "name": "stdout",
          "text": [
            "Found 2338 images belonging to 2 classes.\n"
          ]
        }
      ]
    },
    {
      "cell_type": "code",
      "source": [
        "import numpy as np\n",
        "#optionally check data types before conversion\n",
        "data2_batch = next(train_generator)\n",
        "print(\"Original Data Types: \")\n",
        "print(\"Violence: \",data2_batch[0].dtype)\n",
        "print(\"Non_Violence: \",data2_batch[1].dtype)\n",
        "\n",
        "#convert the image dataset from float32 to int64\n",
        "train_generator = ((np.array(batch[0],dtype =np.int64),np.array(batch[1],dtype =np.int64)) for batch in train_generator)\n",
        "\n",
        "#optionally,check the data type after conversion\n",
        "data2_batch = next(train_generator)\n",
        "print(\"Original Data Types: \")\n",
        "print(\"Violence: \",data2_batch[0].dtype)\n",
        "print(\"Non_Violence: \",data2_batch[1].dtype)"
      ],
      "metadata": {
        "colab": {
          "base_uri": "https://localhost:8080/"
        },
        "id": "3jysqSOkuQY9",
        "outputId": "a9e0e755-303b-4c99-8097-948414a070f7"
      },
      "execution_count": null,
      "outputs": [
        {
          "output_type": "stream",
          "name": "stdout",
          "text": [
            "Original Data Types: \n",
            "Violence:  float32\n",
            "Non_Violence:  float32\n",
            "Original Data Types: \n",
            "Violence:  int64\n",
            "Non_Violence:  int64\n"
          ]
        }
      ]
    },
    {
      "cell_type": "code",
      "source": [
        "# Generate a validation data iterator from images in the '/content/valid' directory\n",
        "# Images are resized to (image_resize, image_resize), and labels are encoded in categorical format\n",
        "validation_generator = data_generator.flow_from_directory(\n",
        "    '/content/valid',\n",
        "    target_size=(image_resize, image_resize),\n",
        "    batch_size=batch_size_validation,\n",
        "    class_mode='categorical')"
      ],
      "metadata": {
        "colab": {
          "base_uri": "https://localhost:8080/"
        },
        "id": "fsBxMWKeuUAG",
        "outputId": "a141758d-6717-447d-d9a7-7375d88b998e"
      },
      "execution_count": null,
      "outputs": [
        {
          "output_type": "stream",
          "name": "stdout",
          "text": [
            "Found 662 images belonging to 2 classes.\n"
          ]
        }
      ]
    },
    {
      "cell_type": "code",
      "source": [
        "import numpy as np\n",
        "#optionally check data types before conversion\n",
        "data2_batch = next(validation_generator)\n",
        "print(\"Original Data Types: \")\n",
        "print(\"Violence: \",data2_batch[0].dtype)\n",
        "print(\"Non_Violence: \",data2_batch[1].dtype)\n",
        "\n",
        "#convert the image dataset from float32 to int64\n",
        "validation_generator = ((np.array(batch[0],dtype =np.int64),np.array(batch[1],dtype =np.int64)) for batch in validation_generator)\n",
        "\n",
        "#optionally,check the data type after conversion\n",
        "data2_batch = next(validation_generator)\n",
        "print(\"Original Data Types: \")\n",
        "print(\"Violence: \",data2_batch[0].dtype)\n",
        "print(\"Non_Violence: \",data2_batch[1].dtype)"
      ],
      "metadata": {
        "colab": {
          "base_uri": "https://localhost:8080/"
        },
        "id": "ry-eMMuCuX3t",
        "outputId": "738c8b2d-afcb-4b56-beb4-4034b94b89c8"
      },
      "execution_count": null,
      "outputs": [
        {
          "output_type": "stream",
          "name": "stdout",
          "text": [
            "Original Data Types: \n",
            "Violence:  float32\n",
            "Non_Violence:  float32\n",
            "Original Data Types: \n",
            "Violence:  int64\n",
            "Non_Violence:  int64\n"
          ]
        }
      ]
    },
    {
      "cell_type": "code",
      "source": [
        "!pip install tensorflow\n"
      ],
      "metadata": {
        "colab": {
          "base_uri": "https://localhost:8080/"
        },
        "id": "ImAWA6UCuba1",
        "outputId": "44197d43-9768-408c-aa29-878571170e5c"
      },
      "execution_count": null,
      "outputs": [
        {
          "output_type": "stream",
          "name": "stdout",
          "text": [
            "Requirement already satisfied: tensorflow in /usr/local/lib/python3.10/dist-packages (2.15.0)\n",
            "Requirement already satisfied: absl-py>=1.0.0 in /usr/local/lib/python3.10/dist-packages (from tensorflow) (1.4.0)\n",
            "Requirement already satisfied: astunparse>=1.6.0 in /usr/local/lib/python3.10/dist-packages (from tensorflow) (1.6.3)\n",
            "Requirement already satisfied: flatbuffers>=23.5.26 in /usr/local/lib/python3.10/dist-packages (from tensorflow) (23.5.26)\n",
            "Requirement already satisfied: gast!=0.5.0,!=0.5.1,!=0.5.2,>=0.2.1 in /usr/local/lib/python3.10/dist-packages (from tensorflow) (0.5.4)\n",
            "Requirement already satisfied: google-pasta>=0.1.1 in /usr/local/lib/python3.10/dist-packages (from tensorflow) (0.2.0)\n",
            "Requirement already satisfied: h5py>=2.9.0 in /usr/local/lib/python3.10/dist-packages (from tensorflow) (3.9.0)\n",
            "Requirement already satisfied: libclang>=13.0.0 in /usr/local/lib/python3.10/dist-packages (from tensorflow) (16.0.6)\n",
            "Requirement already satisfied: ml-dtypes~=0.2.0 in /usr/local/lib/python3.10/dist-packages (from tensorflow) (0.2.0)\n",
            "Requirement already satisfied: numpy<2.0.0,>=1.23.5 in /usr/local/lib/python3.10/dist-packages (from tensorflow) (1.23.5)\n",
            "Requirement already satisfied: opt-einsum>=2.3.2 in /usr/local/lib/python3.10/dist-packages (from tensorflow) (3.3.0)\n",
            "Requirement already satisfied: packaging in /usr/local/lib/python3.10/dist-packages (from tensorflow) (23.2)\n",
            "Requirement already satisfied: protobuf!=4.21.0,!=4.21.1,!=4.21.2,!=4.21.3,!=4.21.4,!=4.21.5,<5.0.0dev,>=3.20.3 in /usr/local/lib/python3.10/dist-packages (from tensorflow) (3.20.3)\n",
            "Requirement already satisfied: setuptools in /usr/local/lib/python3.10/dist-packages (from tensorflow) (67.7.2)\n",
            "Requirement already satisfied: six>=1.12.0 in /usr/local/lib/python3.10/dist-packages (from tensorflow) (1.16.0)\n",
            "Requirement already satisfied: termcolor>=1.1.0 in /usr/local/lib/python3.10/dist-packages (from tensorflow) (2.4.0)\n",
            "Requirement already satisfied: typing-extensions>=3.6.6 in /usr/local/lib/python3.10/dist-packages (from tensorflow) (4.5.0)\n",
            "Requirement already satisfied: wrapt<1.15,>=1.11.0 in /usr/local/lib/python3.10/dist-packages (from tensorflow) (1.14.1)\n",
            "Requirement already satisfied: tensorflow-io-gcs-filesystem>=0.23.1 in /usr/local/lib/python3.10/dist-packages (from tensorflow) (0.35.0)\n",
            "Requirement already satisfied: grpcio<2.0,>=1.24.3 in /usr/local/lib/python3.10/dist-packages (from tensorflow) (1.60.0)\n",
            "Requirement already satisfied: tensorboard<2.16,>=2.15 in /usr/local/lib/python3.10/dist-packages (from tensorflow) (2.15.1)\n",
            "Requirement already satisfied: tensorflow-estimator<2.16,>=2.15.0 in /usr/local/lib/python3.10/dist-packages (from tensorflow) (2.15.0)\n",
            "Requirement already satisfied: keras<2.16,>=2.15.0 in /usr/local/lib/python3.10/dist-packages (from tensorflow) (2.15.0)\n",
            "Requirement already satisfied: wheel<1.0,>=0.23.0 in /usr/local/lib/python3.10/dist-packages (from astunparse>=1.6.0->tensorflow) (0.42.0)\n",
            "Requirement already satisfied: google-auth<3,>=1.6.3 in /usr/local/lib/python3.10/dist-packages (from tensorboard<2.16,>=2.15->tensorflow) (2.17.3)\n",
            "Requirement already satisfied: google-auth-oauthlib<2,>=0.5 in /usr/local/lib/python3.10/dist-packages (from tensorboard<2.16,>=2.15->tensorflow) (1.2.0)\n",
            "Requirement already satisfied: markdown>=2.6.8 in /usr/local/lib/python3.10/dist-packages (from tensorboard<2.16,>=2.15->tensorflow) (3.5.1)\n",
            "Requirement already satisfied: requests<3,>=2.21.0 in /usr/local/lib/python3.10/dist-packages (from tensorboard<2.16,>=2.15->tensorflow) (2.31.0)\n",
            "Requirement already satisfied: tensorboard-data-server<0.8.0,>=0.7.0 in /usr/local/lib/python3.10/dist-packages (from tensorboard<2.16,>=2.15->tensorflow) (0.7.2)\n",
            "Requirement already satisfied: werkzeug>=1.0.1 in /usr/local/lib/python3.10/dist-packages (from tensorboard<2.16,>=2.15->tensorflow) (3.0.1)\n",
            "Requirement already satisfied: cachetools<6.0,>=2.0.0 in /usr/local/lib/python3.10/dist-packages (from google-auth<3,>=1.6.3->tensorboard<2.16,>=2.15->tensorflow) (5.3.2)\n",
            "Requirement already satisfied: pyasn1-modules>=0.2.1 in /usr/local/lib/python3.10/dist-packages (from google-auth<3,>=1.6.3->tensorboard<2.16,>=2.15->tensorflow) (0.3.0)\n",
            "Requirement already satisfied: rsa<5,>=3.1.4 in /usr/local/lib/python3.10/dist-packages (from google-auth<3,>=1.6.3->tensorboard<2.16,>=2.15->tensorflow) (4.9)\n",
            "Requirement already satisfied: requests-oauthlib>=0.7.0 in /usr/local/lib/python3.10/dist-packages (from google-auth-oauthlib<2,>=0.5->tensorboard<2.16,>=2.15->tensorflow) (1.3.1)\n",
            "Requirement already satisfied: charset-normalizer<4,>=2 in /usr/local/lib/python3.10/dist-packages (from requests<3,>=2.21.0->tensorboard<2.16,>=2.15->tensorflow) (3.3.2)\n",
            "Requirement already satisfied: idna<4,>=2.5 in /usr/local/lib/python3.10/dist-packages (from requests<3,>=2.21.0->tensorboard<2.16,>=2.15->tensorflow) (3.6)\n",
            "Requirement already satisfied: urllib3<3,>=1.21.1 in /usr/local/lib/python3.10/dist-packages (from requests<3,>=2.21.0->tensorboard<2.16,>=2.15->tensorflow) (2.0.7)\n",
            "Requirement already satisfied: certifi>=2017.4.17 in /usr/local/lib/python3.10/dist-packages (from requests<3,>=2.21.0->tensorboard<2.16,>=2.15->tensorflow) (2023.11.17)\n",
            "Requirement already satisfied: MarkupSafe>=2.1.1 in /usr/local/lib/python3.10/dist-packages (from werkzeug>=1.0.1->tensorboard<2.16,>=2.15->tensorflow) (2.1.3)\n",
            "Requirement already satisfied: pyasn1<0.6.0,>=0.4.6 in /usr/local/lib/python3.10/dist-packages (from pyasn1-modules>=0.2.1->google-auth<3,>=1.6.3->tensorboard<2.16,>=2.15->tensorflow) (0.5.1)\n",
            "Requirement already satisfied: oauthlib>=3.0.0 in /usr/local/lib/python3.10/dist-packages (from requests-oauthlib>=0.7.0->google-auth-oauthlib<2,>=0.5->tensorboard<2.16,>=2.15->tensorflow) (3.2.2)\n"
          ]
        }
      ]
    },
    {
      "cell_type": "code",
      "source": [
        "# Create a Sequential model\n",
        "model = Sequential()"
      ],
      "metadata": {
        "id": "aVgljwcouhbN"
      },
      "execution_count": null,
      "outputs": []
    },
    {
      "cell_type": "code",
      "source": [
        "# Add InceptionV3 pre-trained model as a layer\n",
        "# Parameters:\n",
        "#   - include_top=False: Exclude the top (fully connected) layers\n",
        "#   - pooling='avg': Global average pooling for spatial data reduction\n",
        "#   - weights='imagenet': Initialize with pre-trained weights on ImageNet\n",
        "from tensorflow.keras.applications import InceptionV3\n",
        "\n",
        "model.add(InceptionV3(\n",
        "    include_top=False,\n",
        "    pooling='avg',\n",
        "    weights='imagenet',\n",
        "))"
      ],
      "metadata": {
        "colab": {
          "base_uri": "https://localhost:8080/"
        },
        "id": "irEibV9sukVO",
        "outputId": "4fa27cdf-d70e-426e-d601-05f7215636a1"
      },
      "execution_count": null,
      "outputs": [
        {
          "output_type": "stream",
          "name": "stdout",
          "text": [
            "Downloading data from https://storage.googleapis.com/tensorflow/keras-applications/inception_v3/inception_v3_weights_tf_dim_ordering_tf_kernels_notop.h5\n",
            "87910968/87910968 [==============================] - 1s 0us/step\n"
          ]
        }
      ]
    },
    {
      "cell_type": "code",
      "source": [
        "# Add a Dense (fully connected) layer for classification\n",
        "# Parameters:\n",
        "#   - num_classes: Number of output classes in the classification task\n",
        "#   - activation='softmax': Use softmax activation for multi-class classification\n",
        "model.add(Dense(num_classes, activation='softmax'))"
      ],
      "metadata": {
        "id": "2J1RgkvRuo02"
      },
      "execution_count": null,
      "outputs": []
    },
    {
      "cell_type": "code",
      "source": [
        "# Access the layers of the Sequential model\n",
        "model.layers"
      ],
      "metadata": {
        "colab": {
          "base_uri": "https://localhost:8080/"
        },
        "id": "CcEjg5SpusAF",
        "outputId": "d59f2046-09e3-4740-bfdc-cc80a86bd5ff"
      },
      "execution_count": null,
      "outputs": [
        {
          "output_type": "execute_result",
          "data": {
            "text/plain": [
              "[<keras.src.engine.functional.Functional at 0x7c26ec8872e0>,\n",
              " <keras.src.layers.core.dense.Dense at 0x7c26ec8c7fd0>]"
            ]
          },
          "metadata": {},
          "execution_count": 18
        }
      ]
    },
    {
      "cell_type": "code",
      "source": [
        "# Access the layers of the first layer (InceptionV3) within the Sequential model\n",
        "model.layers[0].layers"
      ],
      "metadata": {
        "colab": {
          "base_uri": "https://localhost:8080/"
        },
        "id": "_GBjSO5Nuu4W",
        "outputId": "bc97512f-b348-4ff9-c61d-51153edeb015"
      },
      "execution_count": null,
      "outputs": [
        {
          "output_type": "execute_result",
          "data": {
            "text/plain": [
              "[<keras.src.engine.input_layer.InputLayer at 0x7c2790552650>,\n",
              " <keras.src.layers.convolutional.conv2d.Conv2D at 0x7c26fdd0cf70>,\n",
              " <keras.src.layers.normalization.batch_normalization.BatchNormalization at 0x7c26fdd0e0b0>,\n",
              " <keras.src.layers.core.activation.Activation at 0x7c26fdd0e350>,\n",
              " <keras.src.layers.convolutional.conv2d.Conv2D at 0x7c26fdd0e9e0>,\n",
              " <keras.src.layers.normalization.batch_normalization.BatchNormalization at 0x7c26fdd0fac0>,\n",
              " <keras.src.layers.core.activation.Activation at 0x7c26fdd0fd60>,\n",
              " <keras.src.layers.convolutional.conv2d.Conv2D at 0x7c26fdd0fdf0>,\n",
              " <keras.src.layers.normalization.batch_normalization.BatchNormalization at 0x7c26fd951960>,\n",
              " <keras.src.layers.core.activation.Activation at 0x7c26fd9525f0>,\n",
              " <keras.src.layers.pooling.max_pooling2d.MaxPooling2D at 0x7c26fd952bf0>,\n",
              " <keras.src.layers.convolutional.conv2d.Conv2D at 0x7c26fd9534c0>,\n",
              " <keras.src.layers.normalization.batch_normalization.BatchNormalization at 0x7c26fd9642b0>,\n",
              " <keras.src.layers.core.activation.Activation at 0x7c26fd953880>,\n",
              " <keras.src.layers.convolutional.conv2d.Conv2D at 0x7c26fd952ec0>,\n",
              " <keras.src.layers.normalization.batch_normalization.BatchNormalization at 0x7c26fd965cc0>,\n",
              " <keras.src.layers.core.activation.Activation at 0x7c26fd966950>,\n",
              " <keras.src.layers.pooling.max_pooling2d.MaxPooling2D at 0x7c26fd966f50>,\n",
              " <keras.src.layers.convolutional.conv2d.Conv2D at 0x7c26fd990c40>,\n",
              " <keras.src.layers.normalization.batch_normalization.BatchNormalization at 0x7c26fd991d50>,\n",
              " <keras.src.layers.core.activation.Activation at 0x7c26fd9929e0>,\n",
              " <keras.src.layers.convolutional.conv2d.Conv2D at 0x7c26fd9786d0>,\n",
              " <keras.src.layers.convolutional.conv2d.Conv2D at 0x7c26fd992dd0>,\n",
              " <keras.src.layers.normalization.batch_normalization.BatchNormalization at 0x7c26fd979ff0>,\n",
              " <keras.src.layers.normalization.batch_normalization.BatchNormalization at 0x7c26fd9916c0>,\n",
              " <keras.src.layers.core.activation.Activation at 0x7c26fd97ac80>,\n",
              " <keras.src.layers.core.activation.Activation at 0x7c26fd991390>,\n",
              " <keras.src.layers.pooling.average_pooling2d.AveragePooling2D at 0x7c26ef71ac20>,\n",
              " <keras.src.layers.convolutional.conv2d.Conv2D at 0x7c26fd967820>,\n",
              " <keras.src.layers.convolutional.conv2d.Conv2D at 0x7c26fd97b070>,\n",
              " <keras.src.layers.convolutional.conv2d.Conv2D at 0x7c26fd993250>,\n",
              " <keras.src.layers.convolutional.conv2d.Conv2D at 0x7c26ef71ab30>,\n",
              " <keras.src.layers.normalization.batch_normalization.BatchNormalization at 0x7c26fd978550>,\n",
              " <keras.src.layers.normalization.batch_normalization.BatchNormalization at 0x7c26fd97be80>,\n",
              " <keras.src.layers.normalization.batch_normalization.BatchNormalization at 0x7c26ef719d20>,\n",
              " <keras.src.layers.normalization.batch_normalization.BatchNormalization at 0x7c26ef7303d0>,\n",
              " <keras.src.layers.core.activation.Activation at 0x7c26fd965150>,\n",
              " <keras.src.layers.core.activation.Activation at 0x7c26fd97b400>,\n",
              " <keras.src.layers.core.activation.Activation at 0x7c26ef71a740>,\n",
              " <keras.src.layers.core.activation.Activation at 0x7c26ef71b010>,\n",
              " <keras.src.layers.merging.concatenate.Concatenate at 0x7c26ef731060>,\n",
              " <keras.src.layers.convolutional.conv2d.Conv2D at 0x7c26ef731bd0>,\n",
              " <keras.src.layers.normalization.batch_normalization.BatchNormalization at 0x7c26ef748b80>,\n",
              " <keras.src.layers.core.activation.Activation at 0x7c26ef7317b0>,\n",
              " <keras.src.layers.convolutional.conv2d.Conv2D at 0x7c26fd992bf0>,\n",
              " <keras.src.layers.convolutional.conv2d.Conv2D at 0x7c26ef749ba0>,\n",
              " <keras.src.layers.normalization.batch_normalization.BatchNormalization at 0x7c26fd965f90>,\n",
              " <keras.src.layers.normalization.batch_normalization.BatchNormalization at 0x7c26ef749ab0>,\n",
              " <keras.src.layers.core.activation.Activation at 0x7c26fd9650c0>,\n",
              " <keras.src.layers.core.activation.Activation at 0x7c26ef74b700>,\n",
              " <keras.src.layers.pooling.average_pooling2d.AveragePooling2D at 0x7c26ef759330>,\n",
              " <keras.src.layers.convolutional.conv2d.Conv2D at 0x7c26ef731810>,\n",
              " <keras.src.layers.convolutional.conv2d.Conv2D at 0x7c26fd9528f0>,\n",
              " <keras.src.layers.convolutional.conv2d.Conv2D at 0x7c26ef74baf0>,\n",
              " <keras.src.layers.convolutional.conv2d.Conv2D at 0x7c26ef7596c0>,\n",
              " <keras.src.layers.normalization.batch_normalization.BatchNormalization at 0x7c26ef71baf0>,\n",
              " <keras.src.layers.normalization.batch_normalization.BatchNormalization at 0x7c26fd950a60>,\n",
              " <keras.src.layers.normalization.batch_normalization.BatchNormalization at 0x7c26ef7587c0>,\n",
              " <keras.src.layers.normalization.batch_normalization.BatchNormalization at 0x7c26ef75b100>,\n",
              " <keras.src.layers.core.activation.Activation at 0x7c26ef719c60>,\n",
              " <keras.src.layers.core.activation.Activation at 0x7c26fd992b90>,\n",
              " <keras.src.layers.core.activation.Activation at 0x7c26ef748490>,\n",
              " <keras.src.layers.core.activation.Activation at 0x7c26ef75bd30>,\n",
              " <keras.src.layers.merging.concatenate.Concatenate at 0x7c26ef758f10>,\n",
              " <keras.src.layers.convolutional.conv2d.Conv2D at 0x7c26ef78ca00>,\n",
              " <keras.src.layers.normalization.batch_normalization.BatchNormalization at 0x7c26ef78ef50>,\n",
              " <keras.src.layers.core.activation.Activation at 0x7c26ef78fbe0>,\n",
              " <keras.src.layers.convolutional.conv2d.Conv2D at 0x7c26ef776500>,\n",
              " <keras.src.layers.convolutional.conv2d.Conv2D at 0x7c26ef78cca0>,\n",
              " <keras.src.layers.normalization.batch_normalization.BatchNormalization at 0x7c26ef777400>,\n",
              " <keras.src.layers.normalization.batch_normalization.BatchNormalization at 0x7c26ef78ca90>,\n",
              " <keras.src.layers.core.activation.Activation at 0x7c26ef774df0>,\n",
              " <keras.src.layers.core.activation.Activation at 0x7c26ef78d690>,\n",
              " <keras.src.layers.pooling.average_pooling2d.AveragePooling2D at 0x7c26ef7339d0>,\n",
              " <keras.src.layers.convolutional.conv2d.Conv2D at 0x7c26ef774160>,\n",
              " <keras.src.layers.convolutional.conv2d.Conv2D at 0x7c26ef7760e0>,\n",
              " <keras.src.layers.convolutional.conv2d.Conv2D at 0x7c26ef7778e0>,\n",
              " <keras.src.layers.convolutional.conv2d.Conv2D at 0x7c26ef78de10>,\n",
              " <keras.src.layers.normalization.batch_normalization.BatchNormalization at 0x7c26ef75aa40>,\n",
              " <keras.src.layers.normalization.batch_normalization.BatchNormalization at 0x7c26ef776ce0>,\n",
              " <keras.src.layers.normalization.batch_normalization.BatchNormalization at 0x7c26ef748040>,\n",
              " <keras.src.layers.normalization.batch_normalization.BatchNormalization at 0x7c26ef78dc90>,\n",
              " <keras.src.layers.core.activation.Activation at 0x7c26ef775e10>,\n",
              " <keras.src.layers.core.activation.Activation at 0x7c26ef78db10>,\n",
              " <keras.src.layers.core.activation.Activation at 0x7c26ef748df0>,\n",
              " <keras.src.layers.core.activation.Activation at 0x7c26ef7a4580>,\n",
              " <keras.src.layers.merging.concatenate.Concatenate at 0x7c26ef7a4d30>,\n",
              " <keras.src.layers.convolutional.conv2d.Conv2D at 0x7c26ef7b4d90>,\n",
              " <keras.src.layers.normalization.batch_normalization.BatchNormalization at 0x7c26ef7b5930>,\n",
              " <keras.src.layers.core.activation.Activation at 0x7c26ef7b61d0>,\n",
              " <keras.src.layers.convolutional.conv2d.Conv2D at 0x7c26ef7b4190>,\n",
              " <keras.src.layers.normalization.batch_normalization.BatchNormalization at 0x7c26ef7b7ca0>,\n",
              " <keras.src.layers.core.activation.Activation at 0x7c26ef7b7be0>,\n",
              " <keras.src.layers.convolutional.conv2d.Conv2D at 0x7c26ef7a7310>,\n",
              " <keras.src.layers.convolutional.conv2d.Conv2D at 0x7c26ef7b8670>,\n",
              " <keras.src.layers.normalization.batch_normalization.BatchNormalization at 0x7c26ef7a7eb0>,\n",
              " <keras.src.layers.normalization.batch_normalization.BatchNormalization at 0x7c26ef7b9090>,\n",
              " <keras.src.layers.core.activation.Activation at 0x7c26ef7a5090>,\n",
              " <keras.src.layers.core.activation.Activation at 0x7c26ef7ba4d0>,\n",
              " <keras.src.layers.pooling.max_pooling2d.MaxPooling2D at 0x7c26ef7b9d20>,\n",
              " <keras.src.layers.merging.concatenate.Concatenate at 0x7c26ef7bb490>,\n",
              " <keras.src.layers.convolutional.conv2d.Conv2D at 0x7c26ef7e6560>,\n",
              " <keras.src.layers.normalization.batch_normalization.BatchNormalization at 0x7c26ef7e7a60>,\n",
              " <keras.src.layers.core.activation.Activation at 0x7c26ef7e7e50>,\n",
              " <keras.src.layers.convolutional.conv2d.Conv2D at 0x7c26ef7e6530>,\n",
              " <keras.src.layers.normalization.batch_normalization.BatchNormalization at 0x7c26ef7e5630>,\n",
              " <keras.src.layers.core.activation.Activation at 0x7c26ef7e4d90>,\n",
              " <keras.src.layers.convolutional.conv2d.Conv2D at 0x7c26ef7ba620>,\n",
              " <keras.src.layers.convolutional.conv2d.Conv2D at 0x7c26ef7a64d0>,\n",
              " <keras.src.layers.normalization.batch_normalization.BatchNormalization at 0x7c26ef7d21d0>,\n",
              " <keras.src.layers.normalization.batch_normalization.BatchNormalization at 0x7c26ef7b83d0>,\n",
              " <keras.src.layers.core.activation.Activation at 0x7c26ef7d2770>,\n",
              " <keras.src.layers.core.activation.Activation at 0x7c26ef7b8a30>,\n",
              " <keras.src.layers.convolutional.conv2d.Conv2D at 0x7c26ef7d2b60>,\n",
              " <keras.src.layers.convolutional.conv2d.Conv2D at 0x7c26ef7d0220>,\n",
              " <keras.src.layers.normalization.batch_normalization.BatchNormalization at 0x7c26ef7d3fa0>,\n",
              " <keras.src.layers.normalization.batch_normalization.BatchNormalization at 0x7c26ef7fa560>,\n",
              " <keras.src.layers.core.activation.Activation at 0x7c26ef7d29b0>,\n",
              " <keras.src.layers.core.activation.Activation at 0x7c26ef7faf50>,\n",
              " <keras.src.layers.pooling.average_pooling2d.AveragePooling2D at 0x7c26ec90d270>,\n",
              " <keras.src.layers.convolutional.conv2d.Conv2D at 0x7c26ef7bbbb0>,\n",
              " <keras.src.layers.convolutional.conv2d.Conv2D at 0x7c26ef7d30d0>,\n",
              " <keras.src.layers.convolutional.conv2d.Conv2D at 0x7c26ef7fb340>,\n",
              " <keras.src.layers.convolutional.conv2d.Conv2D at 0x7c26ec90dab0>,\n",
              " <keras.src.layers.normalization.batch_normalization.BatchNormalization at 0x7c26ef7bbb50>,\n",
              " <keras.src.layers.normalization.batch_normalization.BatchNormalization at 0x7c26ef7e5750>,\n",
              " <keras.src.layers.normalization.batch_normalization.BatchNormalization at 0x7c26ef7fb1c0>,\n",
              " <keras.src.layers.normalization.batch_normalization.BatchNormalization at 0x7c26ec90c580>,\n",
              " <keras.src.layers.core.activation.Activation at 0x7c26ef7bb280>,\n",
              " <keras.src.layers.core.activation.Activation at 0x7c26ef7e6170>,\n",
              " <keras.src.layers.core.activation.Activation at 0x7c26ef7f9b10>,\n",
              " <keras.src.layers.core.activation.Activation at 0x7c26ec90f220>,\n",
              " <keras.src.layers.merging.concatenate.Concatenate at 0x7c26ec90f610>,\n",
              " <keras.src.layers.convolutional.conv2d.Conv2D at 0x7c26ec939d50>,\n",
              " <keras.src.layers.normalization.batch_normalization.BatchNormalization at 0x7c26ec93b850>,\n",
              " <keras.src.layers.core.activation.Activation at 0x7c26ec93b7c0>,\n",
              " <keras.src.layers.convolutional.conv2d.Conv2D at 0x7c26ec938ca0>,\n",
              " <keras.src.layers.normalization.batch_normalization.BatchNormalization at 0x7c26ec93bfd0>,\n",
              " <keras.src.layers.core.activation.Activation at 0x7c26ec93b0a0>,\n",
              " <keras.src.layers.convolutional.conv2d.Conv2D at 0x7c26ec921b40>,\n",
              " <keras.src.layers.convolutional.conv2d.Conv2D at 0x7c26ec955ff0>,\n",
              " <keras.src.layers.normalization.batch_normalization.BatchNormalization at 0x7c26ec922890>,\n",
              " <keras.src.layers.normalization.batch_normalization.BatchNormalization at 0x7c26ec956500>,\n",
              " <keras.src.layers.core.activation.Activation at 0x7c26ec923520>,\n",
              " <keras.src.layers.core.activation.Activation at 0x7c26ec957c40>,\n",
              " <keras.src.layers.convolutional.conv2d.Conv2D at 0x7c26ef7b58d0>,\n",
              " <keras.src.layers.convolutional.conv2d.Conv2D at 0x7c26ec957a30>,\n",
              " <keras.src.layers.normalization.batch_normalization.BatchNormalization at 0x7c26ec9387c0>,\n",
              " <keras.src.layers.normalization.batch_normalization.BatchNormalization at 0x7c26ec954b80>,\n",
              " <keras.src.layers.core.activation.Activation at 0x7c26ec920190>,\n",
              " <keras.src.layers.core.activation.Activation at 0x7c26ec921cf0>,\n",
              " <keras.src.layers.pooling.average_pooling2d.AveragePooling2D at 0x7c26ef7fbfd0>,\n",
              " <keras.src.layers.convolutional.conv2d.Conv2D at 0x7c26ec90c100>,\n",
              " <keras.src.layers.convolutional.conv2d.Conv2D at 0x7c26ec939570>,\n",
              " <keras.src.layers.convolutional.conv2d.Conv2D at 0x7c26ec922770>,\n",
              " <keras.src.layers.convolutional.conv2d.Conv2D at 0x7c26ec922b30>,\n",
              " <keras.src.layers.normalization.batch_normalization.BatchNormalization at 0x7c26ec920d90>,\n",
              " <keras.src.layers.normalization.batch_normalization.BatchNormalization at 0x7c26ec939c30>,\n",
              " <keras.src.layers.normalization.batch_normalization.BatchNormalization at 0x7c26ec9206d0>,\n",
              " <keras.src.layers.normalization.batch_normalization.BatchNormalization at 0x7c26ec939450>,\n",
              " <keras.src.layers.core.activation.Activation at 0x7c26ec90e980>,\n",
              " <keras.src.layers.core.activation.Activation at 0x7c27835914e0>,\n",
              " <keras.src.layers.core.activation.Activation at 0x7c26ec921a80>,\n",
              " <keras.src.layers.core.activation.Activation at 0x7c26ef7fb850>,\n",
              " <keras.src.layers.merging.concatenate.Concatenate at 0x7c26ec9755a0>,\n",
              " <keras.src.layers.convolutional.conv2d.Conv2D at 0x7c26ec987640>,\n",
              " <keras.src.layers.normalization.batch_normalization.BatchNormalization at 0x7c26ec986ad0>,\n",
              " <keras.src.layers.core.activation.Activation at 0x7c26ec987cd0>,\n",
              " <keras.src.layers.convolutional.conv2d.Conv2D at 0x7c26ec984ca0>,\n",
              " <keras.src.layers.normalization.batch_normalization.BatchNormalization at 0x7c26ec9a4640>,\n",
              " <keras.src.layers.core.activation.Activation at 0x7c26ec986a70>,\n",
              " <keras.src.layers.convolutional.conv2d.Conv2D at 0x7c26ec977010>,\n",
              " <keras.src.layers.convolutional.conv2d.Conv2D at 0x7c26ec9a4400>,\n",
              " <keras.src.layers.normalization.batch_normalization.BatchNormalization at 0x7c26ec977670>,\n",
              " <keras.src.layers.normalization.batch_normalization.BatchNormalization at 0x7c26ec9a6c50>,\n",
              " <keras.src.layers.core.activation.Activation at 0x7c26ec975150>,\n",
              " <keras.src.layers.core.activation.Activation at 0x7c26ec9a6020>,\n",
              " <keras.src.layers.convolutional.conv2d.Conv2D at 0x7c26ec977b50>,\n",
              " <keras.src.layers.convolutional.conv2d.Conv2D at 0x7c26ec9a7cd0>,\n",
              " <keras.src.layers.normalization.batch_normalization.BatchNormalization at 0x7c26ec974880>,\n",
              " <keras.src.layers.normalization.batch_normalization.BatchNormalization at 0x7c26ec9a5ba0>,\n",
              " <keras.src.layers.core.activation.Activation at 0x7c26ec976020>,\n",
              " <keras.src.layers.core.activation.Activation at 0x7c26ec9a6b30>,\n",
              " <keras.src.layers.pooling.average_pooling2d.AveragePooling2D at 0x7c26ec9c7af0>,\n",
              " <keras.src.layers.convolutional.conv2d.Conv2D at 0x7c26ec957eb0>,\n",
              " <keras.src.layers.convolutional.conv2d.Conv2D at 0x7c26ec985bd0>,\n",
              " <keras.src.layers.convolutional.conv2d.Conv2D at 0x7c26ec9a5960>,\n",
              " <keras.src.layers.convolutional.conv2d.Conv2D at 0x7c26ec9c61a0>,\n",
              " <keras.src.layers.normalization.batch_normalization.BatchNormalization at 0x7c26ec976c80>,\n",
              " <keras.src.layers.normalization.batch_normalization.BatchNormalization at 0x7c26ec985de0>,\n",
              " <keras.src.layers.normalization.batch_normalization.BatchNormalization at 0x7c26ec9c4ca0>,\n",
              " <keras.src.layers.normalization.batch_normalization.BatchNormalization at 0x7c26ec9c5300>,\n",
              " <keras.src.layers.core.activation.Activation at 0x7c26ec93ada0>,\n",
              " <keras.src.layers.core.activation.Activation at 0x7c26ec986fe0>,\n",
              " <keras.src.layers.core.activation.Activation at 0x7c26ec9c6e30>,\n",
              " <keras.src.layers.core.activation.Activation at 0x7c26ec9a7e80>,\n",
              " <keras.src.layers.merging.concatenate.Concatenate at 0x7c26ec9a6da0>,\n",
              " <keras.src.layers.convolutional.conv2d.Conv2D at 0x7c26ec9e7250>,\n",
              " <keras.src.layers.normalization.batch_normalization.BatchNormalization at 0x7c26ec9e7d90>,\n",
              " <keras.src.layers.core.activation.Activation at 0x7c26ec9e66e0>,\n",
              " <keras.src.layers.convolutional.conv2d.Conv2D at 0x7c26ec9e5210>,\n",
              " <keras.src.layers.normalization.batch_normalization.BatchNormalization at 0x7c26ec9e42b0>,\n",
              " <keras.src.layers.core.activation.Activation at 0x7c26ec9e6e00>,\n",
              " <keras.src.layers.convolutional.conv2d.Conv2D at 0x7c26ec9c70d0>,\n",
              " <keras.src.layers.convolutional.conv2d.Conv2D at 0x7c26ec9f9ff0>,\n",
              " <keras.src.layers.normalization.batch_normalization.BatchNormalization at 0x7c26ec975600>,\n",
              " <keras.src.layers.normalization.batch_normalization.BatchNormalization at 0x7c26ec9f8700>,\n",
              " <keras.src.layers.core.activation.Activation at 0x7c26ec9860e0>,\n",
              " <keras.src.layers.core.activation.Activation at 0x7c26ec9fb3a0>,\n",
              " <keras.src.layers.convolutional.conv2d.Conv2D at 0x7c26ec974e20>,\n",
              " <keras.src.layers.convolutional.conv2d.Conv2D at 0x7c26ec9fba00>,\n",
              " <keras.src.layers.normalization.batch_normalization.BatchNormalization at 0x7c26ec90eb90>,\n",
              " <keras.src.layers.normalization.batch_normalization.BatchNormalization at 0x7c26ec9fbdc0>,\n",
              " <keras.src.layers.core.activation.Activation at 0x7c26ec975900>,\n",
              " <keras.src.layers.core.activation.Activation at 0x7c26ec9f8fd0>,\n",
              " <keras.src.layers.pooling.average_pooling2d.AveragePooling2D at 0x7c26ec822ef0>,\n",
              " <keras.src.layers.convolutional.conv2d.Conv2D at 0x7c26ec9a7bb0>,\n",
              " <keras.src.layers.convolutional.conv2d.Conv2D at 0x7c26ec9e56f0>,\n",
              " <keras.src.layers.convolutional.conv2d.Conv2D at 0x7c26ec9fb6a0>,\n",
              " <keras.src.layers.convolutional.conv2d.Conv2D at 0x7c26ec821f00>,\n",
              " <keras.src.layers.normalization.batch_normalization.BatchNormalization at 0x7c26ec9849d0>,\n",
              " <keras.src.layers.normalization.batch_normalization.BatchNormalization at 0x7c26ec9e5990>,\n",
              " <keras.src.layers.normalization.batch_normalization.BatchNormalization at 0x7c26ec820a30>,\n",
              " <keras.src.layers.normalization.batch_normalization.BatchNormalization at 0x7c26ec821480>,\n",
              " <keras.src.layers.core.activation.Activation at 0x7c26ec986020>,\n",
              " <keras.src.layers.core.activation.Activation at 0x7c26ec9e6b00>,\n",
              " <keras.src.layers.core.activation.Activation at 0x7c26ec9fa860>,\n",
              " <keras.src.layers.core.activation.Activation at 0x7c26ec823be0>,\n",
              " <keras.src.layers.merging.concatenate.Concatenate at 0x7c26ec822440>,\n",
              " <keras.src.layers.convolutional.conv2d.Conv2D at 0x7c26ec9e62f0>,\n",
              " <keras.src.layers.normalization.batch_normalization.BatchNormalization at 0x7c26ec9760b0>,\n",
              " <keras.src.layers.core.activation.Activation at 0x7c26ec9a5090>,\n",
              " <keras.src.layers.convolutional.conv2d.Conv2D at 0x7c26ec9773d0>,\n",
              " <keras.src.layers.normalization.batch_normalization.BatchNormalization at 0x7c26ec9f9390>,\n",
              " <keras.src.layers.core.activation.Activation at 0x7c26ec820b20>,\n",
              " <keras.src.layers.convolutional.conv2d.Conv2D at 0x7c26ec823760>,\n",
              " <keras.src.layers.convolutional.conv2d.Conv2D at 0x7c26ec80afb0>,\n",
              " <keras.src.layers.normalization.batch_normalization.BatchNormalization at 0x7c26ec809a80>,\n",
              " <keras.src.layers.normalization.batch_normalization.BatchNormalization at 0x7c26ec80bca0>,\n",
              " <keras.src.layers.core.activation.Activation at 0x7c26ec823b80>,\n",
              " <keras.src.layers.core.activation.Activation at 0x7c26ec9f81c0>,\n",
              " <keras.src.layers.convolutional.conv2d.Conv2D at 0x7c26ec822e60>,\n",
              " <keras.src.layers.convolutional.conv2d.Conv2D at 0x7c26ec80a920>,\n",
              " <keras.src.layers.normalization.batch_normalization.BatchNormalization at 0x7c26ec9fa380>,\n",
              " <keras.src.layers.normalization.batch_normalization.BatchNormalization at 0x7c26ec80b4f0>,\n",
              " <keras.src.layers.core.activation.Activation at 0x7c26ec9e7a90>,\n",
              " <keras.src.layers.core.activation.Activation at 0x7c26ec80bb50>,\n",
              " <keras.src.layers.pooling.max_pooling2d.MaxPooling2D at 0x7c26ec855120>,\n",
              " <keras.src.layers.merging.concatenate.Concatenate at 0x7c26ec854d30>,\n",
              " <keras.src.layers.convolutional.conv2d.Conv2D at 0x7c26ef7b90f0>,\n",
              " <keras.src.layers.normalization.batch_normalization.BatchNormalization at 0x7c26ec86edd0>,\n",
              " <keras.src.layers.core.activation.Activation at 0x7c26ec86ef80>,\n",
              " <keras.src.layers.convolutional.conv2d.Conv2D at 0x7c26ec8549a0>,\n",
              " <keras.src.layers.convolutional.conv2d.Conv2D at 0x7c26ec86eef0>,\n",
              " <keras.src.layers.normalization.batch_normalization.BatchNormalization at 0x7c26ec856a70>,\n",
              " <keras.src.layers.normalization.batch_normalization.BatchNormalization at 0x7c26ec892da0>,\n",
              " <keras.src.layers.core.activation.Activation at 0x7c26ec8570a0>,\n",
              " <keras.src.layers.core.activation.Activation at 0x7c26ec892740>,\n",
              " <keras.src.layers.convolutional.conv2d.Conv2D at 0x7c26ec856530>,\n",
              " <keras.src.layers.convolutional.conv2d.Conv2D at 0x7c26ec86eb60>,\n",
              " <keras.src.layers.convolutional.conv2d.Conv2D at 0x7c26ec891c00>,\n",
              " <keras.src.layers.convolutional.conv2d.Conv2D at 0x7c26ec891d80>,\n",
              " <keras.src.layers.pooling.average_pooling2d.AveragePooling2D at 0x7c26ec9a60b0>,\n",
              " <keras.src.layers.convolutional.conv2d.Conv2D at 0x7c26ec856e30>,\n",
              " <keras.src.layers.normalization.batch_normalization.BatchNormalization at 0x7c26ec86eaa0>,\n",
              " <keras.src.layers.normalization.batch_normalization.BatchNormalization at 0x7c26ec86fd60>,\n",
              " <keras.src.layers.normalization.batch_normalization.BatchNormalization at 0x7c26ec891600>,\n",
              " <keras.src.layers.normalization.batch_normalization.BatchNormalization at 0x7c26ec857b50>,\n",
              " <keras.src.layers.convolutional.conv2d.Conv2D at 0x7c26ec9a5690>,\n",
              " <keras.src.layers.normalization.batch_normalization.BatchNormalization at 0x7c26ec857d00>,\n",
              " <keras.src.layers.core.activation.Activation at 0x7c26ec823640>,\n",
              " <keras.src.layers.core.activation.Activation at 0x7c26ec86ff70>,\n",
              " <keras.src.layers.core.activation.Activation at 0x7c26ec893f40>,\n",
              " <keras.src.layers.core.activation.Activation at 0x7c26ec8560e0>,\n",
              " <keras.src.layers.normalization.batch_normalization.BatchNormalization at 0x7c26ec8929e0>,\n",
              " <keras.src.layers.core.activation.Activation at 0x7c26ec857850>,\n",
              " <keras.src.layers.merging.concatenate.Concatenate at 0x7c26ec86ee60>,\n",
              " <keras.src.layers.merging.concatenate.Concatenate at 0x7c26ec821300>,\n",
              " <keras.src.layers.core.activation.Activation at 0x7c26ec80b7f0>,\n",
              " <keras.src.layers.merging.concatenate.Concatenate at 0x7c26ec892230>,\n",
              " <keras.src.layers.convolutional.conv2d.Conv2D at 0x7c26ec8c6440>,\n",
              " <keras.src.layers.normalization.batch_normalization.BatchNormalization at 0x7c26ec8c7370>,\n",
              " <keras.src.layers.core.activation.Activation at 0x7c26ec8c7b50>,\n",
              " <keras.src.layers.convolutional.conv2d.Conv2D at 0x7c26ec8ade70>,\n",
              " <keras.src.layers.convolutional.conv2d.Conv2D at 0x7c26ec8c7460>,\n",
              " <keras.src.layers.normalization.batch_normalization.BatchNormalization at 0x7c26ec8ae4d0>,\n",
              " <keras.src.layers.normalization.batch_normalization.BatchNormalization at 0x7c26ec8c7a60>,\n",
              " <keras.src.layers.core.activation.Activation at 0x7c26ec8af4f0>,\n",
              " <keras.src.layers.core.activation.Activation at 0x7c26ec8c7490>,\n",
              " <keras.src.layers.convolutional.conv2d.Conv2D at 0x7c26ec8ae410>,\n",
              " <keras.src.layers.convolutional.conv2d.Conv2D at 0x7c26ec8af9a0>,\n",
              " <keras.src.layers.convolutional.conv2d.Conv2D at 0x7c26ec8c7af0>,\n",
              " <keras.src.layers.convolutional.conv2d.Conv2D at 0x7c26ec887070>,\n",
              " <keras.src.layers.pooling.average_pooling2d.AveragePooling2D at 0x7c26ec8f52a0>,\n",
              " <keras.src.layers.convolutional.conv2d.Conv2D at 0x7c26ec977be0>,\n",
              " <keras.src.layers.normalization.batch_normalization.BatchNormalization at 0x7c26ec8aff70>,\n",
              " <keras.src.layers.normalization.batch_normalization.BatchNormalization at 0x7c26ec8c6650>,\n",
              " <keras.src.layers.normalization.batch_normalization.BatchNormalization at 0x7c26ec886c20>,\n",
              " <keras.src.layers.normalization.batch_normalization.BatchNormalization at 0x7c26ec887f70>,\n",
              " <keras.src.layers.convolutional.conv2d.Conv2D at 0x7c26ec8870d0>,\n",
              " <keras.src.layers.normalization.batch_normalization.BatchNormalization at 0x7c26ec86dba0>,\n",
              " <keras.src.layers.core.activation.Activation at 0x7c26ec8af7f0>,\n",
              " <keras.src.layers.core.activation.Activation at 0x7c26ec8c5f30>,\n",
              " <keras.src.layers.core.activation.Activation at 0x7c26ec886230>,\n",
              " <keras.src.layers.core.activation.Activation at 0x7c26ec886fe0>,\n",
              " <keras.src.layers.normalization.batch_normalization.BatchNormalization at 0x7c26ec887190>,\n",
              " <keras.src.layers.core.activation.Activation at 0x7c26ec93ad40>,\n",
              " <keras.src.layers.merging.concatenate.Concatenate at 0x7c26ec8c67a0>,\n",
              " <keras.src.layers.merging.concatenate.Concatenate at 0x7c26ec887040>,\n",
              " <keras.src.layers.core.activation.Activation at 0x7c26ec8f5b70>,\n",
              " <keras.src.layers.merging.concatenate.Concatenate at 0x7c26ec8f4310>,\n",
              " <keras.src.layers.pooling.global_average_pooling2d.GlobalAveragePooling2D at 0x7c26ec885de0>]"
            ]
          },
          "metadata": {},
          "execution_count": 19
        }
      ]
    },
    {
      "cell_type": "code",
      "source": [
        "# Set the layers of the first layer (InceptionV3) to be non-trainable\n",
        "model.layers[0].trainable = False"
      ],
      "metadata": {
        "id": "45RQ9B-Suzif"
      },
      "execution_count": null,
      "outputs": []
    },
    {
      "cell_type": "code",
      "source": [
        "# Display a summary of the model architecture, including layer names, types, and parameters\n",
        "model.summary()"
      ],
      "metadata": {
        "colab": {
          "base_uri": "https://localhost:8080/"
        },
        "id": "D6ckxlSfu4J1",
        "outputId": "5d8a1caa-d8fd-46cf-8cad-11d13cb911d0"
      },
      "execution_count": null,
      "outputs": [
        {
          "output_type": "stream",
          "name": "stdout",
          "text": [
            "Model: \"sequential\"\n",
            "_________________________________________________________________\n",
            " Layer (type)                Output Shape              Param #   \n",
            "=================================================================\n",
            " inception_v3 (Functional)   (None, 2048)              21802784  \n",
            "                                                                 \n",
            " dense (Dense)               (None, 2)                 4098      \n",
            "                                                                 \n",
            "=================================================================\n",
            "Total params: 21806882 (83.19 MB)\n",
            "Trainable params: 4098 (16.01 KB)\n",
            "Non-trainable params: 21802784 (83.17 MB)\n",
            "_________________________________________________________________\n"
          ]
        }
      ]
    },
    {
      "cell_type": "code",
      "source": [
        "# Compile the model with specified optimizer, loss function, and evaluation metrics\n",
        "# Parameters:\n",
        "#   - optimizer='adam': Use the Adam optimizer for gradient descent\n",
        "#   - loss='categorical_crossentropy': Apply categorical crossentropy as the loss function for multi-class classification\n",
        "#   - metrics=['accuracy']: Evaluate the model's performance using accuracy during training\n",
        "model.compile(optimizer='adam', loss='categorical_crossentropy', metrics=['accuracy'])"
      ],
      "metadata": {
        "id": "T7xYd14jvByd"
      },
      "execution_count": null,
      "outputs": []
    },
    {
      "cell_type": "code",
      "source": [
        "# Calculate the number of steps per epoch for training and validation datasets\n",
        "# based on the total number of samples and batch sizes\n",
        "steps_per_epoch_training = 2338/ batch_size_training\n",
        "steps_per_epoch_validation = 662/ batch_size_validation\n",
        "# Set the number of epochs for training\n",
        "num_epochs = 10"
      ],
      "metadata": {
        "id": "fVBL3h1XvEe_"
      },
      "execution_count": null,
      "outputs": []
    },
    {
      "cell_type": "code",
      "source": [
        "# Train the model using the fit method\n",
        "# Parameters:\n",
        "#   - train_generator: Data generator for training images and labels\n",
        "#   - steps_per_epoch: Number of steps to take per epoch during training\n",
        "#   - epochs: Number of times to iterate over the entire training dataset\n",
        "#   - validation_data: Data generator for validation images and labels\n",
        "#   - validation_steps: Number of steps to take per epoch during validation\n",
        "#   - verbose=1: Display training progress information\n",
        "history = model.fit(\n",
        "    train_generator,\n",
        "    steps_per_epoch=steps_per_epoch_training,\n",
        "    epochs=num_epochs,\n",
        "    validation_data=validation_generator,\n",
        "    validation_steps=steps_per_epoch_validation,\n",
        "    verbose=1,\n",
        ")"
      ],
      "metadata": {
        "colab": {
          "base_uri": "https://localhost:8080/"
        },
        "id": "S-LavawgvJoX",
        "outputId": "c1ab0f9c-6d30-43a5-fe49-7f5a4579766c"
      },
      "execution_count": null,
      "outputs": [
        {
          "output_type": "stream",
          "name": "stdout",
          "text": [
            "Epoch 1/10\n",
            "23/23 [==============================] - 32s 859ms/step - loss: 0.4372 - accuracy: 0.8815 - val_loss: 0.3328 - val_accuracy: 0.9532\n",
            "Epoch 2/10\n",
            "23/23 [==============================] - 12s 516ms/step - loss: 0.2424 - accuracy: 0.9448 - val_loss: 0.2561 - val_accuracy: 0.9486\n",
            "Epoch 3/10\n",
            "23/23 [==============================] - 14s 610ms/step - loss: 0.1966 - accuracy: 0.9487 - val_loss: 0.2310 - val_accuracy: 0.9471\n",
            "Epoch 4/10\n",
            "23/23 [==============================] - 11s 467ms/step - loss: 0.1764 - accuracy: 0.9474 - val_loss: 0.2043 - val_accuracy: 0.9486\n",
            "Epoch 5/10\n",
            "23/23 [==============================] - 11s 474ms/step - loss: 0.1637 - accuracy: 0.9482 - val_loss: 0.2017 - val_accuracy: 0.9486\n",
            "Epoch 6/10\n",
            "23/23 [==============================] - 11s 487ms/step - loss: 0.1557 - accuracy: 0.9487 - val_loss: 0.1800 - val_accuracy: 0.9577\n",
            "Epoch 7/10\n",
            "23/23 [==============================] - 11s 494ms/step - loss: 0.1451 - accuracy: 0.9538 - val_loss: 0.1954 - val_accuracy: 0.9517\n",
            "Epoch 8/10\n",
            "23/23 [==============================] - 10s 451ms/step - loss: 0.1359 - accuracy: 0.9564 - val_loss: 0.2005 - val_accuracy: 0.9562\n",
            "Epoch 9/10\n",
            "23/23 [==============================] - 11s 461ms/step - loss: 0.1385 - accuracy: 0.9559 - val_loss: 0.1601 - val_accuracy: 0.9532\n",
            "Epoch 10/10\n",
            "23/23 [==============================] - 11s 467ms/step - loss: 0.1311 - accuracy: 0.9572 - val_loss: 0.1709 - val_accuracy: 0.9592\n"
          ]
        }
      ]
    },
    {
      "cell_type": "code",
      "source": [
        "import matplotlib.pyplot as plt\n",
        "# Visualize the training and validation loss over epochs\n",
        "# Plot training and validation loss\n",
        "plt.title('Model on Training and Validation Data(Loss)')\n",
        "plt.plot(history.history['loss'], label='Training Loss')\n",
        "plt.plot(history.history['val_loss'], label='Validation Loss')\n",
        "plt.legend()\n",
        "plt.show()\n",
        "# Visualize the training accuracy over epochs\n",
        "# Plot training and validation accuracy\n",
        "plt.title('Model on Train Data(Accuracy)')\n",
        "plt.plot(history.history['accuracy'], label='Training Accuracy')\n",
        "plt.legend()\n",
        "plt.show()\n",
        "# Visualize the validation accuracy over epochs\n",
        "plt.title('Model on Validation Data(Accuracy)')\n",
        "plt.plot(history.history['val_accuracy'], label='Validation Accuracy')\n",
        "plt.legend()\n",
        "plt.show()"
      ],
      "metadata": {
        "colab": {
          "base_uri": "https://localhost:8080/",
          "height": 1000
        },
        "id": "C1htMTAg3Z5k",
        "outputId": "f26663e5-e3fc-4733-d72f-60009b52ac7e"
      },
      "execution_count": null,
      "outputs": [
        {
          "output_type": "display_data",
          "data": {
            "text/plain": [
              "<Figure size 640x480 with 1 Axes>"
            ],
            "image/png": "[encoded data removed]"
          },
          "metadata": {}
        },
        {
          "output_type": "display_data",
          "data": {
            "text/plain": [
              "<Figure size 640x480 with 1 Axes>"
            ],
            "image/png": "[encoded data removed]"
          },
          "metadata": {}
        },
        {
          "output_type": "display_data",
          "data": {
            "text/plain": [
              "<Figure size 640x480 with 1 Axes>"
            ],
            "image/png": "[encoded data removed]"
          },
          "metadata": {}
        }
      ]
    },
    {
      "cell_type": "code",
      "source": [
        "#saved the model\n",
        "model.save('inceptionv3_model.h5')"
      ],
      "metadata": {
        "colab": {
          "base_uri": "https://localhost:8080/"
        },
        "id": "ZU30m6pRyem1",
        "outputId": "9f3867bf-d356-49d2-a154-bd13bfa1e4ae"
      },
      "execution_count": null,
      "outputs": [
        {
          "output_type": "stream",
          "name": "stderr",
          "text": [
            "/usr/local/lib/python3.10/dist-packages/keras/src/engine/training.py:3103: UserWarning: You are saving your model as an HDF5 file via `model.save()`. This file format is considered legacy. We recommend using instead the native Keras format, e.g. `model.save('my_model.keras')`.\n",
            "  saving_api.save_model(\n"
          ]
        }
      ]
    },
    {
      "cell_type": "code",
      "source": [
        "# Generate a test data iterator from images in the '/content/test' directory\n",
        "# Images are resized to (image_resize, image_resize) without shuffling\n",
        "test_generator = data_generator.flow_from_directory(\n",
        "    '/content/test',\n",
        "    target_size=(image_resize, image_resize),\n",
        "    shuffle=False)"
      ],
      "metadata": {
        "colab": {
          "base_uri": "https://localhost:8080/"
        },
        "id": "9AWKG2HNy12W",
        "outputId": "75a30f82-b8d8-4a00-ac12-d089f4b55547"
      },
      "execution_count": null,
      "outputs": [
        {
          "output_type": "stream",
          "name": "stdout",
          "text": [
            "Found 334 images belonging to 2 classes.\n"
          ]
        }
      ]
    },
    {
      "cell_type": "code",
      "source": [
        "# Calculate the number of steps per epoch for the test dataset\n",
        "# based on the total number of test samples and the batch size used for validation\n",
        "steps_per_epoch_test = 334/ batch_size_validation"
      ],
      "metadata": {
        "id": "kAf7csDfzEjD"
      },
      "execution_count": null,
      "outputs": []
    },
    {
      "cell_type": "code",
      "source": [
        "# Evaluate the trained model on the test dataset\n",
        "# Parameters:\n",
        "#   - test_generator: Data generator for test images and labels\n",
        "#   - steps=steps_per_epoch_test: Number of steps to take during evaluation, based on the test dataset size and batch size\n",
        "score = model.evaluate(test_generator, steps=steps_per_epoch_test)"
      ],
      "metadata": {
        "colab": {
          "base_uri": "https://localhost:8080/"
        },
        "id": "bsVJo5RWzLaJ",
        "outputId": "34cb2d48-6042-4337-c8a9-285a3197bc06"
      },
      "execution_count": null,
      "outputs": [
        {
          "output_type": "stream",
          "name": "stdout",
          "text": [
            "3/3 [==============================] - 4s 89ms/step - loss: 0.6149 - accuracy: 0.8203\n"
          ]
        }
      ]
    },
    {
      "cell_type": "code",
      "source": [
        "# Print the accuracy and error rate of the InceptionV3 model on the test dataset\n",
        "# Format the output to display accuracy in percentage and calculate the error rate\n",
        "\n",
        "print('Accuracy of Inception V3: {}% \\n Error: {}'.format(score[1], 1 - score[1]))"
      ],
      "metadata": {
        "colab": {
          "base_uri": "https://localhost:8080/"
        },
        "id": "UnPuvsjszcg0",
        "outputId": "5903acea-94f7-4531-e115-d61055322af1"
      },
      "execution_count": null,
      "outputs": [
        {
          "output_type": "stream",
          "name": "stdout",
          "text": [
            "Accuracy of Inception V3: 0.8203125% \n",
            " Error: 0.1796875\n"
          ]
        }
      ]
    },
    {
      "cell_type": "code",
      "source": [
        "# Fine-tune the model on the test dataset for a specified number of epochs\n",
        "# Parameters:\n",
        "#   - test_generator: Data generator for test images and labels\n",
        "#   - steps_per_epoch=steps_per_epoch_test: Number of steps to take per epoch during fine-tuning\n",
        "#   - epochs=num_epochs: Number of times to iterate over the entire test dataset for fine-tuning\n",
        "#   - verbose=1: Display fine-tuning progress information\n",
        "history2 = model.fit(\n",
        "    test_generator,\n",
        "    steps_per_epoch=steps_per_epoch_test,\n",
        "    epochs=num_epochs,\n",
        "    verbose=1,\n",
        "\n",
        ")"
      ],
      "metadata": {
        "colab": {
          "base_uri": "https://localhost:8080/"
        },
        "id": "n1yBe90370AB",
        "outputId": "bcbf79a2-f9e7-4336-da54-b9926355260e"
      },
      "execution_count": null,
      "outputs": [
        {
          "output_type": "stream",
          "name": "stdout",
          "text": [
            "Epoch 1/10\n",
            "3/3 [==============================] - 5s 928ms/step - loss: 0.0414 - accuracy: 1.0000\n",
            "Epoch 2/10\n",
            "3/3 [==============================] - 0s 121ms/step - loss: 0.0065 - accuracy: 1.0000\n",
            "Epoch 3/10\n",
            "3/3 [==============================] - 0s 100ms/step - loss: 1.8963 - accuracy: 0.7727\n",
            "Epoch 4/10\n",
            "3/3 [==============================] - 0s 98ms/step - loss: 1.6471 - accuracy: 0.3182\n",
            "Epoch 5/10\n",
            "3/3 [==============================] - 0s 108ms/step - loss: 0.3322 - accuracy: 0.8906\n",
            "Epoch 6/10\n",
            "3/3 [==============================] - 0s 92ms/step - loss: 0.0055 - accuracy: 1.0000\n",
            "Epoch 7/10\n",
            "3/3 [==============================] - 0s 94ms/step - loss: 1.7593 - accuracy: 0.7727\n",
            "Epoch 8/10\n",
            "3/3 [==============================] - 0s 118ms/step - loss: 8.2520e-04 - accuracy: 1.0000\n",
            "Epoch 9/10\n",
            "3/3 [==============================] - 0s 131ms/step - loss: 0.0059 - accuracy: 1.0000\n",
            "Epoch 10/10\n",
            "3/3 [==============================] - 0s 107ms/step - loss: 0.3908 - accuracy: 0.8273\n"
          ]
        }
      ]
    },
    {
      "cell_type": "code",
      "source": [
        "# Plot the test history for accuracy\n",
        "plt.plot(history2.history['accuracy'])\n",
        "plt.title('Model Accuracy on Test Data')\n",
        "plt.xlabel('Epoch')\n",
        "plt.ylabel('Accuracy')\n",
        "plt.show()"
      ],
      "metadata": {
        "colab": {
          "base_uri": "https://localhost:8080/",
          "height": 472
        },
        "id": "TNOcDNhI3XBN",
        "outputId": "7d293b11-8a27-4a3a-ab67-7ca2e2348822"
      },
      "execution_count": null,
      "outputs": [
        {
          "output_type": "display_data",
          "data": {
            "text/plain": [
              "<Figure size 640x480 with 1 Axes>"
            ],
            "image/png": "[encoded data removed]"
          },
          "metadata": {}
        }
      ]
    },
    {
      "cell_type": "code",
      "source": [
        "import numpy as np"
      ],
      "metadata": {
        "id": "4oeq9KdR1Adj"
      },
      "execution_count": null,
      "outputs": []
    },
    {
      "cell_type": "code",
      "source": [
        "predict =model.predict_generator(test_generator, steps=steps_per_epoch_test)\n"
      ],
      "metadata": {
        "colab": {
          "base_uri": "https://localhost:8080/"
        },
        "id": "kU9ZbSG22hka",
        "outputId": "70aea1d3-5942-4612-8aee-3391a319f964"
      },
      "execution_count": null,
      "outputs": [
        {
          "output_type": "stream",
          "name": "stderr",
          "text": [
            "<ipython-input-36-3e04f36b9391>:1: UserWarning: `Model.predict_generator` is deprecated and will be removed in a future version. Please use `Model.predict`, which supports generators.\n",
            "  predict =model.predict_generator(test_generator, steps=steps_per_epoch_test)\n"
          ]
        }
      ]
    },
    {
      "cell_type": "code",
      "source": [
        "label2index = test_generator.class_indices\n",
        "\n",
        "# obtain the list of classes\n",
        "list_of_label = list(label2index.keys())\n",
        "print(\"The list of classes: \", list_of_label)"
      ],
      "metadata": {
        "colab": {
          "base_uri": "https://localhost:8080/"
        },
        "id": "N32FW8Bt3DDe",
        "outputId": "da1a6e37-d9e5-4105-cbef-688d3d710ec0"
      },
      "execution_count": null,
      "outputs": [
        {
          "output_type": "stream",
          "name": "stdout",
          "text": [
            "The list of classes:  ['Non_Violence', 'Violence']\n"
          ]
        }
      ]
    },
    {
      "cell_type": "code",
      "source": [
        "print(\"GoogleNet Predictions :\")\n",
        "for i in range(0,10):\n",
        "    pred_class = np.argmax(predict[i])\n",
        "    pred_label = list_of_label[pred_class]\n",
        "    print('Prediction :{}'.format(\n",
        "        pred_label,\n",
        "        predict[i][pred_class]))"
      ],
      "metadata": {
        "colab": {
          "base_uri": "https://localhost:8080/"
        },
        "id": "hpbu5owX3IGt",
        "outputId": "9973a936-e1d0-4e72-e81e-aa2bbe300d59"
      },
      "execution_count": null,
      "outputs": [
        {
          "output_type": "stream",
          "name": "stdout",
          "text": [
            "GoogleNet Predictions :\n",
            "Prediction :Non_Violence\n",
            "Prediction :Non_Violence\n",
            "Prediction :Non_Violence\n",
            "Prediction :Non_Violence\n",
            "Prediction :Non_Violence\n",
            "Prediction :Violence\n",
            "Prediction :Non_Violence\n",
            "Prediction :Non_Violence\n",
            "Prediction :Non_Violence\n",
            "Prediction :Non_Violence\n"
          ]
        }
      ]
    }
  ]
}